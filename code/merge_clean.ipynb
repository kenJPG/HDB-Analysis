{
 "cells": [
  {
   "cell_type": "code",
   "execution_count": 129,
   "metadata": {},
   "outputs": [],
   "source": [
    "# This python notebook merges the follow dataset files:\n",
    "#\t'resale_flat_prices_2012_2014.csv'\n",
    "#\t'resale_flat_prices_2015_2016.csv'\n",
    "#\t'resale_flat_prices_2017_2021.csv'\n",
    "# such that all the data is contained in a new file:\n",
    "#\t'resale_flat_prices_all.csv'\n",
    "\n",
    "# The notebook also cleans out any unnecessary columns that will be not used in the data analysis"
   ]
  },
  {
   "cell_type": "code",
   "execution_count": 130,
   "metadata": {},
   "outputs": [],
   "source": [
    "# Importing modules\n",
    "import numpy as np"
   ]
  },
  {
   "cell_type": "markdown",
   "metadata": {},
   "source": []
  },
  {
   "cell_type": "code",
   "execution_count": 131,
   "metadata": {},
   "outputs": [],
   "source": [
    "# Reading the CSV files\n",
    "resale_first = np.genfromtxt('../datasets/resale_flat_prices_2012_2014.csv', dtype=[('month','U32'), ('town','U32'), ('flat_type','U32'), ('block','U32'), ('street_name','U32'), ('storey_range','U32'), ('floor_area_sqm','U32'), ('flat_model','U32'), ('lease_commence_date','U32'), ('resale_price','U32')], skip_header=1, delimiter=',')\n",
    "\n",
    "# # From 2015 onwards, there is an extra column named 'remaining_lease' that we need to consider\n",
    "resale_second = np.genfromtxt('../datasets/resale_flat_prices_2015_2016.csv', dtype=[('month','U32'), ('town','U32'), ('flat_type','U32'), ('block','U32'), ('street_name','U32'), ('storey_range','U32'), ('floor_area_sqm','U32'), ('flat_model','U32'), ('lease_commence_date','U32'), ('remaining_lease', str), ('resale_price','U32')], skip_header=1, delimiter=',')\n",
    "resale_third = np.genfromtxt('../datasets/resale_flat_prices_2017_2021.csv', dtype=[('month','U32'), ('town','U32'), ('flat_type','U32'), ('block','U32'), ('street_name','U32'), ('storey_range','U32'), ('floor_area_sqm','U32'), ('flat_model','U32'), ('lease_commence_date','U32'), ('remaining_lease', str), ('resale_price','U32')], skip_header=1, delimiter=',')"
   ]
  },
  {
   "cell_type": "code",
   "execution_count": 132,
   "metadata": {},
   "outputs": [
    {
     "name": "stdout",
     "output_type": "stream",
     "text": [
      "[['2012-03' '2012-03' '2012-03' ... '2021-03' '2021-10' '2021-12']\n",
      " ['ANG MO KIO' 'ANG MO KIO' 'ANG MO KIO' ... 'YISHUN' 'YISHUN' 'YISHUN']\n",
      " ['45' '44' '68' ... '171' '164' '171']\n",
      " ['250000' '265000' '315000' ... '860000' '760000' '865000']]\n"
     ]
    }
   ],
   "source": [
    "# We do not want any unnecessary columns and thus will only keep\n",
    "# the columns we want\n",
    "clean_columns = ['month', 'town', 'floor_area_sqm', 'resale_price']\n",
    "\n",
    "resale_all = np.array(\n",
    "\t# Make an array of the combined columns\n",
    "\t[\n",
    "\t\t# Combine a column from all the datasets into one larger column\n",
    "\t\tnp.concatenate([resale_first[column], resale_second[column], resale_third[column]]) for column in clean_columns\n",
    "\t]\n",
    ")\n",
    "\n",
    "# We have a 2d array, where axis-1 contains data for that column\n",
    "print(resale_all)"
   ]
  },
  {
   "cell_type": "code",
   "execution_count": 133,
   "metadata": {},
   "outputs": [
    {
     "name": "stdout",
     "output_type": "stream",
     "text": [
      "[['2012-03' 'ANG MO KIO' '45' '250000']\n",
      " ['2012-03' 'ANG MO KIO' '44' '265000']\n",
      " ['2012-03' 'ANG MO KIO' '68' '315000']\n",
      " ...\n",
      " ['2021-03' 'YISHUN' '171' '860000']\n",
      " ['2021-10' 'YISHUN' '164' '760000']\n",
      " ['2021-12' 'YISHUN' '171' '865000']]\n"
     ]
    }
   ],
   "source": [
    "# We transpose the 2d array, such that axis-1 changes from a column, to a row\n",
    "resale_all = resale_all.T\n",
    "print(resale_all)"
   ]
  },
  {
   "cell_type": "code",
   "execution_count": 134,
   "metadata": {},
   "outputs": [],
   "source": [
    "# Now we can write the merged and cleaned dataset to a csv\n",
    "np.savetxt('../datasets/resale_flat_prices_all.csv', resale_all, fmt='%s', delimiter=',', header=','.join(clean_columns), encoding='utf-8')"
   ]
  }
 ],
 "metadata": {
  "interpreter": {
   "hash": "db5b9ac6e96d1ce6c5eb53a96d079498533ae2ae94d7e08e8227716a3fb39379"
  },
  "kernelspec": {
   "display_name": "Python 3.8.8 64-bit ('base': conda)",
   "language": "python",
   "name": "python3"
  },
  "language_info": {
   "codemirror_mode": {
    "name": "ipython",
    "version": 3
   },
   "file_extension": ".py",
   "mimetype": "text/x-python",
   "name": "python",
   "nbconvert_exporter": "python",
   "pygments_lexer": "ipython3",
   "version": "3.8.8"
  },
  "orig_nbformat": 4
 },
 "nbformat": 4,
 "nbformat_minor": 2
}
